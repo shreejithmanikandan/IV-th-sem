{
 "cells": [
  {
   "cell_type": "markdown",
   "id": "dbe6d6ec",
   "metadata": {},
   "source": [
    "# Install NumPy library"
   ]
  },
  {
   "cell_type": "code",
   "execution_count": 1,
   "id": "0e88a734",
   "metadata": {},
   "outputs": [
    {
     "name": "stdout",
     "output_type": "stream",
     "text": [
      "Defaulting to user installation because normal site-packages is not writeable\n",
      "Requirement already satisfied: numpy in c:\\users\\admin\\appdata\\roaming\\python\\python39\\site-packages (1.24.4)\n",
      "Note: you may need to restart the kernel to use updated packages.\n"
     ]
    }
   ],
   "source": [
    "pip install numpy"
   ]
  },
  {
   "cell_type": "markdown",
   "id": "be6c6be6",
   "metadata": {},
   "source": [
    "# NumPy Array Operation"
   ]
  },
  {
   "cell_type": "markdown",
   "id": "4d3e43a4",
   "metadata": {},
   "source": [
    "# 1. Import Library"
   ]
  },
  {
   "cell_type": "code",
   "execution_count": 2,
   "id": "fbd50347",
   "metadata": {},
   "outputs": [],
   "source": [
    "import numpy as np"
   ]
  },
  {
   "cell_type": "markdown",
   "id": "b505c4f0",
   "metadata": {},
   "source": [
    "## 2. NumPy version Check"
   ]
  },
  {
   "cell_type": "code",
   "execution_count": 3,
   "id": "b452a539",
   "metadata": {},
   "outputs": [
    {
     "data": {
      "text/plain": [
       "'1.24.4'"
      ]
     },
     "execution_count": 3,
     "metadata": {},
     "output_type": "execute_result"
    }
   ],
   "source": [
    "np.version.version"
   ]
  },
  {
   "cell_type": "markdown",
   "id": "b220c02b",
   "metadata": {},
   "source": [
    "# 3.1 Creating 1D array"
   ]
  },
  {
   "cell_type": "markdown",
   "id": "ee9d2674",
   "metadata": {},
   "source": [
    "# 1.Syntax: numpy.array ([Values])\n"
   ]
  },
  {
   "cell_type": "markdown",
   "id": "e2f3e873",
   "metadata": {},
   "source": [
    "# 2.Values: Element in  the array"
   ]
  },
  {
   "cell_type": "code",
   "execution_count": 4,
   "id": "b5d0f7ae",
   "metadata": {},
   "outputs": [],
   "source": [
    "first_array = np.array([1,2,3,4,5])"
   ]
  },
  {
   "cell_type": "markdown",
   "id": "25adcc0d",
   "metadata": {},
   "source": [
    "## 3.2 Printing 1D array"
   ]
  },
  {
   "cell_type": "code",
   "execution_count": 5,
   "id": "09111904",
   "metadata": {},
   "outputs": [
    {
     "name": "stdout",
     "output_type": "stream",
     "text": [
      "[1 2 3 4 5]\n"
     ]
    }
   ],
   "source": [
    "print(first_array)"
   ]
  },
  {
   "cell_type": "markdown",
   "id": "a451e14b",
   "metadata": {},
   "source": [
    "## 4.1 Creating 2D array"
   ]
  },
  {
   "cell_type": "markdown",
   "id": "187369ce",
   "metadata": {},
   "source": [
    "# 1.Syntax: numpy.array ([Values])\n"
   ]
  },
  {
   "cell_type": "markdown",
   "id": "5c7bd5bb",
   "metadata": {},
   "source": [
    "# 2.Values: Element in  the array"
   ]
  },
  {
   "cell_type": "code",
   "execution_count": 6,
   "id": "c367afc5",
   "metadata": {},
   "outputs": [],
   "source": [
    "second_array = np.array([(4,5,6),(7,8,9)])"
   ]
  },
  {
   "cell_type": "code",
   "execution_count": 7,
   "id": "b1d2b7b3",
   "metadata": {},
   "outputs": [
    {
     "name": "stdout",
     "output_type": "stream",
     "text": [
      "[[4 5 6]\n",
      " [7 8 9]]\n"
     ]
    }
   ],
   "source": [
    "print(second_array)"
   ]
  },
  {
   "cell_type": "markdown",
   "id": "e3794749",
   "metadata": {},
   "source": [
    "# 5.1 Creating 3D array"
   ]
  },
  {
   "cell_type": "markdown",
   "id": "ff3af5da",
   "metadata": {},
   "source": [
    "# 1.Syntax: numpy.array ([Values])\n"
   ]
  },
  {
   "cell_type": "markdown",
   "id": "dde9dcb6",
   "metadata": {},
   "source": [
    "# 2.Values: Element in  the array"
   ]
  },
  {
   "cell_type": "code",
   "execution_count": 8,
   "id": "a1b79d38",
   "metadata": {},
   "outputs": [],
   "source": [
    "third_array = np.array([[(10,11,12),(13,14,15)],[(16,17,18),(19,20,21)]])"
   ]
  },
  {
   "cell_type": "code",
   "execution_count": 9,
   "id": "6ca380b2",
   "metadata": {},
   "outputs": [
    {
     "name": "stdout",
     "output_type": "stream",
     "text": [
      "[[[10 11 12]\n",
      "  [13 14 15]]\n",
      "\n",
      " [[16 17 18]\n",
      "  [19 20 21]]]\n"
     ]
    }
   ],
   "source": [
    "print(third_array)"
   ]
  },
  {
   "cell_type": "code",
   "execution_count": 10,
   "id": "b631c2d9",
   "metadata": {},
   "outputs": [],
   "source": [
    "zero_array = np.zeros((4,4))"
   ]
  },
  {
   "cell_type": "code",
   "execution_count": 11,
   "id": "1f0c12bc",
   "metadata": {},
   "outputs": [
    {
     "name": "stdout",
     "output_type": "stream",
     "text": [
      "[[0. 0. 0. 0.]\n",
      " [0. 0. 0. 0.]\n",
      " [0. 0. 0. 0.]\n",
      " [0. 0. 0. 0.]]\n"
     ]
    }
   ],
   "source": [
    "print(zero_array)"
   ]
  },
  {
   "cell_type": "markdown",
   "id": "3b83f493",
   "metadata": {},
   "source": [
    "# 7.Array of Ones"
   ]
  },
  {
   "cell_type": "code",
   "execution_count": 12,
   "id": "03e13c4c",
   "metadata": {},
   "outputs": [
    {
     "name": "stdout",
     "output_type": "stream",
     "text": [
      "[[1. 1. 1. 1. 1. 1. 1. 1. 1. 1.]\n",
      " [1. 1. 1. 1. 1. 1. 1. 1. 1. 1.]\n",
      " [1. 1. 1. 1. 1. 1. 1. 1. 1. 1.]\n",
      " [1. 1. 1. 1. 1. 1. 1. 1. 1. 1.]\n",
      " [1. 1. 1. 1. 1. 1. 1. 1. 1. 1.]\n",
      " [1. 1. 1. 1. 1. 1. 1. 1. 1. 1.]\n",
      " [1. 1. 1. 1. 1. 1. 1. 1. 1. 1.]\n",
      " [1. 1. 1. 1. 1. 1. 1. 1. 1. 1.]\n",
      " [1. 1. 1. 1. 1. 1. 1. 1. 1. 1.]\n",
      " [1. 1. 1. 1. 1. 1. 1. 1. 1. 1.]]\n"
     ]
    }
   ],
   "source": [
    "one_array = np.ones((10,10))\n",
    "print(one_array)"
   ]
  },
  {
   "cell_type": "markdown",
   "id": "aca7bd3a",
   "metadata": {},
   "source": [
    "# 8. Linspace"
   ]
  },
  {
   "cell_type": "code",
   "execution_count": 13,
   "id": "05085524",
   "metadata": {},
   "outputs": [],
   "source": [
    "spaced_num = np.linspace(0,100,500)"
   ]
  },
  {
   "cell_type": "code",
   "execution_count": 14,
   "id": "adfa5276",
   "metadata": {},
   "outputs": [
    {
     "name": "stdout",
     "output_type": "stream",
     "text": [
      "[  0.           0.2004008    0.4008016    0.6012024    0.80160321\n",
      "   1.00200401   1.20240481   1.40280561   1.60320641   1.80360721\n",
      "   2.00400802   2.20440882   2.40480962   2.60521042   2.80561122\n",
      "   3.00601202   3.20641283   3.40681363   3.60721443   3.80761523\n",
      "   4.00801603   4.20841683   4.40881764   4.60921844   4.80961924\n",
      "   5.01002004   5.21042084   5.41082164   5.61122244   5.81162325\n",
      "   6.01202405   6.21242485   6.41282565   6.61322645   6.81362725\n",
      "   7.01402806   7.21442886   7.41482966   7.61523046   7.81563126\n",
      "   8.01603206   8.21643287   8.41683367   8.61723447   8.81763527\n",
      "   9.01803607   9.21843687   9.41883768   9.61923848   9.81963928\n",
      "  10.02004008  10.22044088  10.42084168  10.62124248  10.82164329\n",
      "  11.02204409  11.22244489  11.42284569  11.62324649  11.82364729\n",
      "  12.0240481   12.2244489   12.4248497   12.6252505   12.8256513\n",
      "  13.0260521   13.22645291  13.42685371  13.62725451  13.82765531\n",
      "  14.02805611  14.22845691  14.42885772  14.62925852  14.82965932\n",
      "  15.03006012  15.23046092  15.43086172  15.63126253  15.83166333\n",
      "  16.03206413  16.23246493  16.43286573  16.63326653  16.83366733\n",
      "  17.03406814  17.23446894  17.43486974  17.63527054  17.83567134\n",
      "  18.03607214  18.23647295  18.43687375  18.63727455  18.83767535\n",
      "  19.03807615  19.23847695  19.43887776  19.63927856  19.83967936\n",
      "  20.04008016  20.24048096  20.44088176  20.64128257  20.84168337\n",
      "  21.04208417  21.24248497  21.44288577  21.64328657  21.84368737\n",
      "  22.04408818  22.24448898  22.44488978  22.64529058  22.84569138\n",
      "  23.04609218  23.24649299  23.44689379  23.64729459  23.84769539\n",
      "  24.04809619  24.24849699  24.4488978   24.6492986   24.8496994\n",
      "  25.0501002   25.250501    25.4509018   25.65130261  25.85170341\n",
      "  26.05210421  26.25250501  26.45290581  26.65330661  26.85370741\n",
      "  27.05410822  27.25450902  27.45490982  27.65531062  27.85571142\n",
      "  28.05611222  28.25651303  28.45691383  28.65731463  28.85771543\n",
      "  29.05811623  29.25851703  29.45891784  29.65931864  29.85971944\n",
      "  30.06012024  30.26052104  30.46092184  30.66132265  30.86172345\n",
      "  31.06212425  31.26252505  31.46292585  31.66332665  31.86372745\n",
      "  32.06412826  32.26452906  32.46492986  32.66533066  32.86573146\n",
      "  33.06613226  33.26653307  33.46693387  33.66733467  33.86773547\n",
      "  34.06813627  34.26853707  34.46893788  34.66933868  34.86973948\n",
      "  35.07014028  35.27054108  35.47094188  35.67134269  35.87174349\n",
      "  36.07214429  36.27254509  36.47294589  36.67334669  36.87374749\n",
      "  37.0741483   37.2745491   37.4749499   37.6753507   37.8757515\n",
      "  38.0761523   38.27655311  38.47695391  38.67735471  38.87775551\n",
      "  39.07815631  39.27855711  39.47895792  39.67935872  39.87975952\n",
      "  40.08016032  40.28056112  40.48096192  40.68136273  40.88176353\n",
      "  41.08216433  41.28256513  41.48296593  41.68336673  41.88376754\n",
      "  42.08416834  42.28456914  42.48496994  42.68537074  42.88577154\n",
      "  43.08617234  43.28657315  43.48697395  43.68737475  43.88777555\n",
      "  44.08817635  44.28857715  44.48897796  44.68937876  44.88977956\n",
      "  45.09018036  45.29058116  45.49098196  45.69138277  45.89178357\n",
      "  46.09218437  46.29258517  46.49298597  46.69338677  46.89378758\n",
      "  47.09418838  47.29458918  47.49498998  47.69539078  47.89579158\n",
      "  48.09619238  48.29659319  48.49699399  48.69739479  48.89779559\n",
      "  49.09819639  49.29859719  49.498998    49.6993988   49.8997996\n",
      "  50.1002004   50.3006012   50.501002    50.70140281  50.90180361\n",
      "  51.10220441  51.30260521  51.50300601  51.70340681  51.90380762\n",
      "  52.10420842  52.30460922  52.50501002  52.70541082  52.90581162\n",
      "  53.10621242  53.30661323  53.50701403  53.70741483  53.90781563\n",
      "  54.10821643  54.30861723  54.50901804  54.70941884  54.90981964\n",
      "  55.11022044  55.31062124  55.51102204  55.71142285  55.91182365\n",
      "  56.11222445  56.31262525  56.51302605  56.71342685  56.91382766\n",
      "  57.11422846  57.31462926  57.51503006  57.71543086  57.91583166\n",
      "  58.11623246  58.31663327  58.51703407  58.71743487  58.91783567\n",
      "  59.11823647  59.31863727  59.51903808  59.71943888  59.91983968\n",
      "  60.12024048  60.32064128  60.52104208  60.72144289  60.92184369\n",
      "  61.12224449  61.32264529  61.52304609  61.72344689  61.9238477\n",
      "  62.1242485   62.3246493   62.5250501   62.7254509   62.9258517\n",
      "  63.12625251  63.32665331  63.52705411  63.72745491  63.92785571\n",
      "  64.12825651  64.32865731  64.52905812  64.72945892  64.92985972\n",
      "  65.13026052  65.33066132  65.53106212  65.73146293  65.93186373\n",
      "  66.13226453  66.33266533  66.53306613  66.73346693  66.93386774\n",
      "  67.13426854  67.33466934  67.53507014  67.73547094  67.93587174\n",
      "  68.13627255  68.33667335  68.53707415  68.73747495  68.93787575\n",
      "  69.13827655  69.33867735  69.53907816  69.73947896  69.93987976\n",
      "  70.14028056  70.34068136  70.54108216  70.74148297  70.94188377\n",
      "  71.14228457  71.34268537  71.54308617  71.74348697  71.94388778\n",
      "  72.14428858  72.34468938  72.54509018  72.74549098  72.94589178\n",
      "  73.14629259  73.34669339  73.54709419  73.74749499  73.94789579\n",
      "  74.14829659  74.34869739  74.5490982   74.749499    74.9498998\n",
      "  75.1503006   75.3507014   75.5511022   75.75150301  75.95190381\n",
      "  76.15230461  76.35270541  76.55310621  76.75350701  76.95390782\n",
      "  77.15430862  77.35470942  77.55511022  77.75551102  77.95591182\n",
      "  78.15631263  78.35671343  78.55711423  78.75751503  78.95791583\n",
      "  79.15831663  79.35871743  79.55911824  79.75951904  79.95991984\n",
      "  80.16032064  80.36072144  80.56112224  80.76152305  80.96192385\n",
      "  81.16232465  81.36272545  81.56312625  81.76352705  81.96392786\n",
      "  82.16432866  82.36472946  82.56513026  82.76553106  82.96593186\n",
      "  83.16633267  83.36673347  83.56713427  83.76753507  83.96793587\n",
      "  84.16833667  84.36873747  84.56913828  84.76953908  84.96993988\n",
      "  85.17034068  85.37074148  85.57114228  85.77154309  85.97194389\n",
      "  86.17234469  86.37274549  86.57314629  86.77354709  86.9739479\n",
      "  87.1743487   87.3747495   87.5751503   87.7755511   87.9759519\n",
      "  88.17635271  88.37675351  88.57715431  88.77755511  88.97795591\n",
      "  89.17835671  89.37875752  89.57915832  89.77955912  89.97995992\n",
      "  90.18036072  90.38076152  90.58116232  90.78156313  90.98196393\n",
      "  91.18236473  91.38276553  91.58316633  91.78356713  91.98396794\n",
      "  92.18436874  92.38476954  92.58517034  92.78557114  92.98597194\n",
      "  93.18637275  93.38677355  93.58717435  93.78757515  93.98797595\n",
      "  94.18837675  94.38877756  94.58917836  94.78957916  94.98997996\n",
      "  95.19038076  95.39078156  95.59118236  95.79158317  95.99198397\n",
      "  96.19238477  96.39278557  96.59318637  96.79358717  96.99398798\n",
      "  97.19438878  97.39478958  97.59519038  97.79559118  97.99599198\n",
      "  98.19639279  98.39679359  98.59719439  98.79759519  98.99799599\n",
      "  99.19839679  99.3987976   99.5991984   99.7995992  100.        ]\n"
     ]
    }
   ],
   "source": [
    "print(spaced_num)"
   ]
  },
  {
   "cell_type": "code",
   "execution_count": 15,
   "id": "a28a965c",
   "metadata": {},
   "outputs": [
    {
     "name": "stdout",
     "output_type": "stream",
     "text": [
      "[1 2 3]\n"
     ]
    }
   ],
   "source": [
    "my_array = np.array([1,2,3])\n",
    "print(my_array)"
   ]
  },
  {
   "cell_type": "code",
   "execution_count": 16,
   "id": "4cb72aba",
   "metadata": {},
   "outputs": [
    {
     "name": "stdout",
     "output_type": "stream",
     "text": [
      "[[1. 1.]\n",
      " [1. 1.]]\n"
     ]
    }
   ],
   "source": [
    "arr_ones =np.ones((2,2))\n",
    "print(arr_ones)"
   ]
  },
  {
   "cell_type": "code",
   "execution_count": 17,
   "id": "0374ffbc",
   "metadata": {},
   "outputs": [
    {
     "name": "stdout",
     "output_type": "stream",
     "text": [
      "[[10 11 12]\n",
      " [13 14 15]]\n"
     ]
    }
   ],
   "source": [
    "my_matrix = np.array([(10,11,12),(13,14,15)])\n",
    "print(my_matrix)"
   ]
  },
  {
   "cell_type": "code",
   "execution_count": 18,
   "id": "4628af4a",
   "metadata": {},
   "outputs": [
    {
     "name": "stdout",
     "output_type": "stream",
     "text": [
      "[[10 13]\n",
      " [11 14]\n",
      " [12 15]]\n"
     ]
    }
   ],
   "source": [
    "matrix_transpose = np.transpose(my_matrix)\n",
    "print(matrix_transpose)"
   ]
  },
  {
   "cell_type": "code",
   "execution_count": 19,
   "id": "44cb73a8",
   "metadata": {},
   "outputs": [
    {
     "data": {
      "text/plain": [
       "array([10, 13, 11, 14, 12, 15])"
      ]
     },
     "execution_count": 19,
     "metadata": {},
     "output_type": "execute_result"
    }
   ],
   "source": [
    "matrix_transpose.ravel()"
   ]
  },
  {
   "cell_type": "markdown",
   "id": "f635d39d",
   "metadata": {},
   "source": [
    "# Array reshape"
   ]
  },
  {
   "cell_type": "code",
   "execution_count": 20,
   "id": "a9fd98fe",
   "metadata": {},
   "outputs": [
    {
     "data": {
      "text/plain": [
       "array([[1],\n",
       "       [2],\n",
       "       [3]])"
      ]
     },
     "execution_count": 20,
     "metadata": {},
     "output_type": "execute_result"
    }
   ],
   "source": [
    "my_array.reshape(3,1)"
   ]
  },
  {
   "cell_type": "code",
   "execution_count": 21,
   "id": "ecb9b21d",
   "metadata": {},
   "outputs": [
    {
     "data": {
      "text/plain": [
       "array([[1.],\n",
       "       [1.],\n",
       "       [1.],\n",
       "       [1.]])"
      ]
     },
     "execution_count": 21,
     "metadata": {},
     "output_type": "execute_result"
    }
   ],
   "source": [
    "arr_ones.reshape(4,1)"
   ]
  },
  {
   "cell_type": "code",
   "execution_count": 23,
   "id": "bb4f8775",
   "metadata": {},
   "outputs": [
    {
     "data": {
      "text/plain": [
       "array([[10, 13, 11],\n",
       "       [14, 12, 15]])"
      ]
     },
     "execution_count": 23,
     "metadata": {},
     "output_type": "execute_result"
    }
   ],
   "source": [
    "matrix_transpose.reshape(2,3)"
   ]
  },
  {
   "cell_type": "markdown",
   "id": "975c0f51",
   "metadata": {},
   "source": [
    "# Array resize"
   ]
  },
  {
   "cell_type": "code",
   "execution_count": 26,
   "id": "2bc9e1e6",
   "metadata": {},
   "outputs": [
    {
     "data": {
      "text/plain": [
       "array([[1.],\n",
       "       [1.],\n",
       "       [1.],\n",
       "       [1.]])"
      ]
     },
     "execution_count": 26,
     "metadata": {},
     "output_type": "execute_result"
    }
   ],
   "source": [
    "arr_ones.resize(4,1)\n",
    "arr_ones"
   ]
  },
  {
   "cell_type": "code",
   "execution_count": 27,
   "id": "4c3c1df8",
   "metadata": {},
   "outputs": [
    {
     "data": {
      "text/plain": [
       "array([[0.62752114, 0.14531398, 0.22860817],\n",
       "       [0.86126572, 0.46121994, 0.80679741],\n",
       "       [0.69810602, 0.45356194, 0.75928697]])"
      ]
     },
     "execution_count": 27,
     "metadata": {},
     "output_type": "execute_result"
    }
   ],
   "source": [
    "np.random.random((3,3))"
   ]
  },
  {
   "cell_type": "code",
   "execution_count": null,
   "id": "cd5bf729",
   "metadata": {},
   "outputs": [],
   "source": []
  }
 ],
 "metadata": {
  "kernelspec": {
   "display_name": "Python 3 (ipykernel)",
   "language": "python",
   "name": "python3"
  },
  "language_info": {
   "codemirror_mode": {
    "name": "ipython",
    "version": 3
   },
   "file_extension": ".py",
   "mimetype": "text/x-python",
   "name": "python",
   "nbconvert_exporter": "python",
   "pygments_lexer": "ipython3",
   "version": "3.9.13"
  }
 },
 "nbformat": 4,
 "nbformat_minor": 5
}
