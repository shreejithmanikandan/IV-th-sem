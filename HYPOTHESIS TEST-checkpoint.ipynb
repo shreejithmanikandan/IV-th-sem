{
 "cells": [
  {
   "cell_type": "markdown",
   "id": "2e1f6e4b",
   "metadata": {},
   "source": [
    "# HYPOTHESIS TEST"
   ]
  },
  {
   "cell_type": "code",
   "execution_count": 1,
   "id": "099016f0",
   "metadata": {},
   "outputs": [
    {
     "name": "stdout",
     "output_type": "stream",
     "text": [
      "Fail to reject the null hypothesis: There is no significant difference between the means.\n",
      "t-statistic: 0.4472135954999579\n",
      "p-value: 0.6665811073830707\n"
     ]
    }
   ],
   "source": [
    "import numpy as np\n",
    "from scipy.stats import t\n",
    "\n",
    "def student_t_test(sample1, sample2, alpha=0.05):\n",
    "   \n",
    "    n1 = len(sample1)\n",
    "    n2 = len(sample2)\n",
    "    mean1 = np.mean(sample1)\n",
    "    mean2 = np.mean(sample2)\n",
    "    std1 = np.std(sample1, ddof=1)\n",
    "    std2 = np.std(sample2, ddof=1)\n",
    "    \n",
    "    pooled_std = np.sqrt((std1**2 / n1) + (std2**2 / n2))\n",
    "    t_statistic = (mean1 - mean2) / pooled_std\n",
    "    degrees_of_freedom = n1 + n2 - 2\n",
    "    p_value = 2 * (1 - t.cdf(abs(t_statistic), df=degrees_of_freedom))\n",
    "\n",
    "    reject_null = p_value < alpha\n",
    "\n",
    "    return reject_null, t_statistic, p_value\n",
    "\n",
    "# Example usage:\n",
    "sample1 = [23, 25, 28, 32, 27]\n",
    "sample2 = [21, 24, 26, 29, 30]\n",
    "alpha = 0.05\n",
    "\n",
    "reject_null, t_statistic, p_value = student_t_test(sample1, sample2, alpha)\n",
    "\n",
    "if reject_null:\n",
    "    print(\"Reject the null hypothesis: There is a significant difference between the means.\")\n",
    "else:\n",
    "    print(\"Fail to reject the null hypothesis: There is no significant difference between the means.\")\n",
    "\n",
    "print(f\"t-statistic: {t_statistic}\")\n",
    "print(f\"p-value: {p_value}\")"
   ]
  },
  {
   "cell_type": "markdown",
   "id": "b2848f16",
   "metadata": {},
   "source": [
    "# ONE-TAILED T-TEST"
   ]
  },
  {
   "cell_type": "code",
   "execution_count": 2,
   "id": "be7b8b5b",
   "metadata": {},
   "outputs": [
    {
     "name": "stdout",
     "output_type": "stream",
     "text": [
      "Reject the null hypothesis: The sample mean is significantly greater than the null mean.\n",
      "t-statistic: 2.2568861459217144\n",
      "p-value: 0.02929994223433796\n"
     ]
    }
   ],
   "source": [
    "import numpy as np\n",
    "from scipy.stats import t\n",
    "\n",
    "def one_tailed_t_test(sample, null_mean, alternative='greater', alpha=0.05):\n",
    "    \n",
    "    n = len(sample)\n",
    "    sample_mean = np.mean(sample)\n",
    "    sample_std = np.std(sample, ddof=1)\n",
    "    t_statistic = (sample_mean - null_mean) / (sample_std / np.sqrt(n))\n",
    "    \n",
    "    if alternative == 'greater':\n",
    "        p_value = 1 - t.cdf(t_statistic, df=n - 1)\n",
    "        reject_null = p_value < alpha\n",
    "    elif alternative == 'less':\n",
    "        p_value = t.cdf(t_statistic, df=n - 1)\n",
    "        reject_null = p_value < alpha\n",
    "    else:\n",
    "        raise ValueError(\"Invalid alternative hypothesis. Choose either 'greater' or 'less'.\")\n",
    "\n",
    "    return reject_null, t_statistic, p_value\n",
    "\n",
    "# Example usage:\n",
    "sample = [11, 12, 14, 15, 16, 18, 20, 21]\n",
    "null_mean = 13\n",
    "alternative = 'greater'\n",
    "alpha = 0.05\n",
    "\n",
    "reject_null, t_statistic, p_value = one_tailed_t_test(sample, null_mean, alternative, alpha)\n",
    "\n",
    "if reject_null:\n",
    "    print(\"Reject the null hypothesis: The sample mean is significantly greater than the null mean.\")\n",
    "else:\n",
    "    print(\"Fail to reject the null hypothesis: The sample mean is not significantly greater than the null mean.\")\n",
    "\n",
    "print(f\"t-statistic: {t_statistic}\")\n",
    "print(f\"p-value: {p_value}\")"
   ]
  },
  {
   "cell_type": "markdown",
   "id": "705a13e9",
   "metadata": {},
   "source": [
    "# TWO-TAILED T-TEST"
   ]
  },
  {
   "cell_type": "code",
   "execution_count": 3,
   "id": "ef505b7b",
   "metadata": {},
   "outputs": [
    {
     "name": "stdout",
     "output_type": "stream",
     "text": [
      "Fail to reject the null hypothesis: The sample mean is not significantly different from the null mean.\n",
      "t-statistic: 2.2568861459217144\n",
      "p-value: 0.05859988446867592\n"
     ]
    }
   ],
   "source": [
    "import numpy as np\n",
    "from scipy.stats import t\n",
    "\n",
    "def two_tailed_t_test(sample, null_mean, alpha=0.05):\n",
    "   \n",
    "    n = len(sample)\n",
    "    sample_mean = np.mean(sample)\n",
    "    sample_std = np.std(sample, ddof=1)\n",
    "    t_statistic = (sample_mean - null_mean) / (sample_std / np.sqrt(n))\n",
    "    degrees_of_freedom = n - 1\n",
    "    \n",
    "    p_value = 2 * (1 - t.cdf(abs(t_statistic), df=degrees_of_freedom))\n",
    "\n",
    "    reject_null = p_value < alpha\n",
    "\n",
    "    return reject_null, t_statistic, p_value\n",
    "\n",
    "# Example usage:\n",
    "sample = [11, 12, 14, 15, 16, 18, 20, 21]\n",
    "null_mean = 13\n",
    "alpha = 0.05\n",
    "\n",
    "reject_null, t_statistic, p_value = two_tailed_t_test(sample, null_mean, alpha)\n",
    "\n",
    "if reject_null:\n",
    "    print(\"Reject the null hypothesis: The sample mean is significantly different from the null mean.\")\n",
    "else:\n",
    "    print(\"Fail to reject the null hypothesis: The sample mean is not significantly different from the null mean.\")\n",
    "\n",
    "print(f\"t-statistic: {t_statistic}\")\n",
    "print(f\"p-value: {p_value}\")"
   ]
  },
  {
   "cell_type": "code",
   "execution_count": null,
   "id": "bb6796fe",
   "metadata": {},
   "outputs": [],
   "source": []
  }
 ],
 "metadata": {
  "kernelspec": {
   "display_name": "Python 3 (ipykernel)",
   "language": "python",
   "name": "python3"
  },
  "language_info": {
   "codemirror_mode": {
    "name": "ipython",
    "version": 3
   },
   "file_extension": ".py",
   "mimetype": "text/x-python",
   "name": "python",
   "nbconvert_exporter": "python",
   "pygments_lexer": "ipython3",
   "version": "3.11.4"
  }
 },
 "nbformat": 4,
 "nbformat_minor": 5
}
