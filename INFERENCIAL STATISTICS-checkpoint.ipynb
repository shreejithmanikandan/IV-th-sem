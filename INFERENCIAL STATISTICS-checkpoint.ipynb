{
 "cells": [
  {
   "cell_type": "markdown",
   "id": "13586420",
   "metadata": {},
   "source": [
    "# POINT INTERVAL ESTIMATION"
   ]
  },
  {
   "cell_type": "code",
   "execution_count": 1,
   "id": "79e7b32f",
   "metadata": {},
   "outputs": [],
   "source": [
    "import numpy as np\n",
    "from scipy.stats import t"
   ]
  },
  {
   "cell_type": "code",
   "execution_count": 2,
   "id": "ea871285",
   "metadata": {},
   "outputs": [],
   "source": [
    "def mean_confidence_interval(data, confidence=0.95):\n",
    "    \n",
    "    n = len(data)\n",
    "    mean = np.mean(data)\n",
    "    std_err = np.std(data, ddof=1) / np.sqrt(n)\n",
    "    margin_of_error = std_err * t.ppf((1 + confidence) / 2, n - 1)\n",
    "    lower_bound = mean - margin_of_error\n",
    "    upper_bound = mean + margin_of_error\n",
    "    return mean, lower_bound, upper_bound"
   ]
  },
  {
   "cell_type": "code",
   "execution_count": 3,
   "id": "3077ecc6",
   "metadata": {},
   "outputs": [
    {
     "name": "stdout",
     "output_type": "stream",
     "text": [
      "Mean: 9.5\n",
      "Confidence Interval (95%): [7.334149410386608, 11.665850589613392]\n"
     ]
    }
   ],
   "source": [
    "# Example usage:\n",
    "data = [5, 6, 7, 8, 9, 10, 11, 12, 13, 14]\n",
    "confidence_level = 0.95\n",
    "mean, lower_bound, upper_bound = mean_confidence_interval(data, confidence_level)\n",
    "print(f\"Mean: {mean}\")\n",
    "print(f\"Confidence Interval ({int(confidence_level * 100)}%): [{lower_bound}, {upper_bound}]\")"
   ]
  },
  {
   "cell_type": "markdown",
   "id": "932dbfd1",
   "metadata": {},
   "source": [
    "# CONFIDENCE INTERVAL"
   ]
  },
  {
   "cell_type": "code",
   "execution_count": 4,
   "id": "31856e9b",
   "metadata": {},
   "outputs": [
    {
     "name": "stdout",
     "output_type": "stream",
     "text": [
      "Null hypothesis not rejected: There is no significant difference between the means.\n",
      "Confidence Interval (95%): (-18.295261119358262, 30.295261119358262)\n"
     ]
    }
   ],
   "source": [
    "import numpy as np\n",
    "from scipy.stats import t\n",
    "\n",
    "def confidence_interval_hypothesis(data1, data2, confidence=0.95):\n",
    "   \n",
    "    n1 = len(data1)\n",
    "    n2 = len(data2)\n",
    "    mean1 = np.mean(data1)\n",
    "    mean2 = np.mean(data2)\n",
    "    std1 = np.std(data1, ddof=1)\n",
    "    std2 = np.std(data2, ddof=1)\n",
    "    std_err = np.sqrt((std1**2 / n1) + (std2**2 / n2))\n",
    "    t_critical = t.ppf((1 + confidence) / 2, n1 + n2 - 2)\n",
    "    \n",
    "    # Hypothesis testing\n",
    "    t_statistic = (mean1 - mean2) / std_err\n",
    "    reject_null = np.abs(t_statistic) > t_critical\n",
    "    \n",
    "    # Confidence interval calculation\n",
    "    mean_diff = mean1 - mean2\n",
    "    margin_of_error = t_critical * std_err\n",
    "    lower_bound = mean_diff - margin_of_error\n",
    "    upper_bound = mean_diff + margin_of_error\n",
    "    \n",
    "    return reject_null, (lower_bound, upper_bound)\n",
    "\n",
    "# Example usage:\n",
    "data1 = [30, 40, 50, 60, 70]\n",
    "data2 = [20, 35, 45, 55, 65]\n",
    "confidence_level = 0.95\n",
    "reject_null, confidence_interval = confidence_interval_hypothesis(data1, data2, confidence_level)\n",
    "\n",
    "if reject_null:\n",
    "    print(\"Null hypothesis rejected: There is a significant difference between the means.\")\n",
    "else:\n",
    "    print(\"Null hypothesis not rejected: There is no significant difference between the means.\")\n",
    "\n",
    "print(f\"Confidence Interval ({int(confidence_level * 100)}%): {confidence_interval}\")"
   ]
  },
  {
   "cell_type": "code",
   "execution_count": null,
   "id": "fa060310",
   "metadata": {},
   "outputs": [],
   "source": []
  }
 ],
 "metadata": {
  "kernelspec": {
   "display_name": "Python 3 (ipykernel)",
   "language": "python",
   "name": "python3"
  },
  "language_info": {
   "codemirror_mode": {
    "name": "ipython",
    "version": 3
   },
   "file_extension": ".py",
   "mimetype": "text/x-python",
   "name": "python",
   "nbconvert_exporter": "python",
   "pygments_lexer": "ipython3",
   "version": "3.11.4"
  }
 },
 "nbformat": 4,
 "nbformat_minor": 5
}
